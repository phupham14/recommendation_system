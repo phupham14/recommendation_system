{
 "cells": [
  {
   "cell_type": "code",
   "execution_count": 1,
   "id": "4f878176",
   "metadata": {},
   "outputs": [],
   "source": [
    "import pandas as pd"
   ]
  },
  {
   "cell_type": "code",
   "execution_count": 4,
   "id": "9ab3542e",
   "metadata": {},
   "outputs": [],
   "source": [
    "#Loading data\n",
    "df = pd.read_csv(\"spotify_millsongdata.csv\")"
   ]
  },
  {
   "cell_type": "code",
   "execution_count": 5,
   "id": "454a6248",
   "metadata": {},
   "outputs": [
    {
     "data": {
      "text/plain": [
       "(57650, 4)"
      ]
     },
     "execution_count": 5,
     "metadata": {},
     "output_type": "execute_result"
    }
   ],
   "source": [
    "df.shape"
   ]
  },
  {
   "cell_type": "code",
   "execution_count": 7,
   "id": "a9e74a9f",
   "metadata": {},
   "outputs": [
    {
     "data": {
      "text/plain": [
       "artist    0\n",
       "song      0\n",
       "link      0\n",
       "text      0\n",
       "dtype: int64"
      ]
     },
     "execution_count": 7,
     "metadata": {},
     "output_type": "execute_result"
    }
   ],
   "source": [
    "#Kiểm tra các ô null\n",
    "df.isnull().sum()"
   ]
  },
  {
   "cell_type": "code",
   "execution_count": 8,
   "id": "94f3079c",
   "metadata": {},
   "outputs": [],
   "source": [
    "df = df.drop('link', axis = 1)"
   ]
  },
  {
   "cell_type": "code",
   "execution_count": 10,
   "id": "8929a997",
   "metadata": {},
   "outputs": [
    {
     "data": {
      "text/html": [
       "<div>\n",
       "<style scoped>\n",
       "    .dataframe tbody tr th:only-of-type {\n",
       "        vertical-align: middle;\n",
       "    }\n",
       "\n",
       "    .dataframe tbody tr th {\n",
       "        vertical-align: top;\n",
       "    }\n",
       "\n",
       "    .dataframe thead th {\n",
       "        text-align: right;\n",
       "    }\n",
       "</style>\n",
       "<table border=\"1\" class=\"dataframe\">\n",
       "  <thead>\n",
       "    <tr style=\"text-align: right;\">\n",
       "      <th></th>\n",
       "      <th>artist</th>\n",
       "      <th>song</th>\n",
       "      <th>text</th>\n",
       "    </tr>\n",
       "  </thead>\n",
       "  <tbody>\n",
       "    <tr>\n",
       "      <th>0</th>\n",
       "      <td>ABBA</td>\n",
       "      <td>Ahe's My Kind Of Girl</td>\n",
       "      <td>Look at her face, it's a wonderful face  \\r\\nA...</td>\n",
       "    </tr>\n",
       "    <tr>\n",
       "      <th>1</th>\n",
       "      <td>ABBA</td>\n",
       "      <td>Andante, Andante</td>\n",
       "      <td>Take it easy with me, please  \\r\\nTouch me gen...</td>\n",
       "    </tr>\n",
       "    <tr>\n",
       "      <th>2</th>\n",
       "      <td>ABBA</td>\n",
       "      <td>As Good As New</td>\n",
       "      <td>I'll never know why I had to go  \\r\\nWhy I had...</td>\n",
       "    </tr>\n",
       "    <tr>\n",
       "      <th>3</th>\n",
       "      <td>ABBA</td>\n",
       "      <td>Bang</td>\n",
       "      <td>Making somebody happy is a question of give an...</td>\n",
       "    </tr>\n",
       "    <tr>\n",
       "      <th>4</th>\n",
       "      <td>ABBA</td>\n",
       "      <td>Bang-A-Boomerang</td>\n",
       "      <td>Making somebody happy is a question of give an...</td>\n",
       "    </tr>\n",
       "  </tbody>\n",
       "</table>\n",
       "</div>"
      ],
      "text/plain": [
       "  artist                   song  \\\n",
       "0   ABBA  Ahe's My Kind Of Girl   \n",
       "1   ABBA       Andante, Andante   \n",
       "2   ABBA         As Good As New   \n",
       "3   ABBA                   Bang   \n",
       "4   ABBA       Bang-A-Boomerang   \n",
       "\n",
       "                                                text  \n",
       "0  Look at her face, it's a wonderful face  \\r\\nA...  \n",
       "1  Take it easy with me, please  \\r\\nTouch me gen...  \n",
       "2  I'll never know why I had to go  \\r\\nWhy I had...  \n",
       "3  Making somebody happy is a question of give an...  \n",
       "4  Making somebody happy is a question of give an...  "
      ]
     },
     "execution_count": 10,
     "metadata": {},
     "output_type": "execute_result"
    }
   ],
   "source": [
    "df.head(5)"
   ]
  },
  {
   "cell_type": "code",
   "execution_count": 11,
   "id": "50240805",
   "metadata": {},
   "outputs": [
    {
     "data": {
      "text/plain": [
       "\"Look at her face, it's a wonderful face  \\r\\nAnd it means something special to me  \\r\\nLook at the way that she smiles when she sees me  \\r\\nHow lucky can one fellow be?  \\r\\n  \\r\\nShe's just my kind of girl, she makes me feel fine  \\r\\nWho could ever believe that she could be mine?  \\r\\nShe's just my kind of girl, without her I'm blue  \\r\\nAnd if she ever leaves me what could I do, what could I do?  \\r\\n  \\r\\nAnd when we go for a walk in the park  \\r\\nAnd she holds me and squeezes my hand  \\r\\nWe'll go on walking for hours and talking  \\r\\nAbout all the things that we plan  \\r\\n  \\r\\nShe's just my kind of girl, she makes me feel fine  \\r\\nWho could ever believe that she could be mine?  \\r\\nShe's just my kind of girl, without her I'm blue  \\r\\nAnd if she ever leaves me what could I do, what could I do?\\r\\n\\r\\n\""
      ]
     },
     "execution_count": 11,
     "metadata": {},
     "output_type": "execute_result"
    }
   ],
   "source": [
    "df['text'][0]"
   ]
  },
  {
   "cell_type": "code",
   "execution_count": 12,
   "id": "b657a7fa",
   "metadata": {},
   "outputs": [
    {
     "data": {
      "text/html": [
       "<div>\n",
       "<style scoped>\n",
       "    .dataframe tbody tr th:only-of-type {\n",
       "        vertical-align: middle;\n",
       "    }\n",
       "\n",
       "    .dataframe tbody tr th {\n",
       "        vertical-align: top;\n",
       "    }\n",
       "\n",
       "    .dataframe thead th {\n",
       "        text-align: right;\n",
       "    }\n",
       "</style>\n",
       "<table border=\"1\" class=\"dataframe\">\n",
       "  <thead>\n",
       "    <tr style=\"text-align: right;\">\n",
       "      <th></th>\n",
       "      <th>artist</th>\n",
       "      <th>song</th>\n",
       "      <th>text</th>\n",
       "    </tr>\n",
       "  </thead>\n",
       "  <tbody>\n",
       "    <tr>\n",
       "      <th>33456</th>\n",
       "      <td>Genesis</td>\n",
       "      <td>Many Too Many</td>\n",
       "      <td>Many too many have stood where I stand  \\r\\nMa...</td>\n",
       "    </tr>\n",
       "    <tr>\n",
       "      <th>9765</th>\n",
       "      <td>Joni Mitchell</td>\n",
       "      <td>Sunny Sunday</td>\n",
       "      <td>She pulls the shade  \\r\\nIt's just another sun...</td>\n",
       "    </tr>\n",
       "    <tr>\n",
       "      <th>45293</th>\n",
       "      <td>Neil Diamond</td>\n",
       "      <td>Marry Me</td>\n",
       "      <td>Say that you'll marry me  \\r\\nSometimes carry ...</td>\n",
       "    </tr>\n",
       "    <tr>\n",
       "      <th>4010</th>\n",
       "      <td>Deep Purple</td>\n",
       "      <td>Strange Kind Of Woman</td>\n",
       "      <td>There once was a woman  \\r\\nA strange kind of ...</td>\n",
       "    </tr>\n",
       "    <tr>\n",
       "      <th>22179</th>\n",
       "      <td>Yoko Ono</td>\n",
       "      <td>Wake Up</td>\n",
       "      <td>Mm-mm, mm-mm, mm-mm,  \\r\\nMm-mm, mm-mm, mm-mm....</td>\n",
       "    </tr>\n",
       "    <tr>\n",
       "      <th>...</th>\n",
       "      <td>...</td>\n",
       "      <td>...</td>\n",
       "      <td>...</td>\n",
       "    </tr>\n",
       "    <tr>\n",
       "      <th>49577</th>\n",
       "      <td>Quicksand</td>\n",
       "      <td>It Would Be Cooler If You Did</td>\n",
       "      <td>If, you turn, turn away,  \\r\\nI, can pretend, ...</td>\n",
       "    </tr>\n",
       "    <tr>\n",
       "      <th>30522</th>\n",
       "      <td>Dream Theater</td>\n",
       "      <td>Beneath The Surface</td>\n",
       "      <td>Is there ever really a right time  \\r\\nYou had...</td>\n",
       "    </tr>\n",
       "    <tr>\n",
       "      <th>14533</th>\n",
       "      <td>O.A.R.</td>\n",
       "      <td>James</td>\n",
       "      <td>You said, \"Young man, don't rely on a sword,  ...</td>\n",
       "    </tr>\n",
       "    <tr>\n",
       "      <th>24363</th>\n",
       "      <td>Avril Lavigne</td>\n",
       "      <td>4 Real</td>\n",
       "      <td>If I show you  \\r\\nGet to know you  \\r\\nIf I h...</td>\n",
       "    </tr>\n",
       "    <tr>\n",
       "      <th>20983</th>\n",
       "      <td>Wanda Jackson</td>\n",
       "      <td>Fujiyama Mama</td>\n",
       "      <td>I've been to Nagasaki Hiroshima too the same I...</td>\n",
       "    </tr>\n",
       "  </tbody>\n",
       "</table>\n",
       "<p>5000 rows × 3 columns</p>\n",
       "</div>"
      ],
      "text/plain": [
       "              artist                           song  \\\n",
       "33456        Genesis                  Many Too Many   \n",
       "9765   Joni Mitchell                   Sunny Sunday   \n",
       "45293   Neil Diamond                       Marry Me   \n",
       "4010     Deep Purple          Strange Kind Of Woman   \n",
       "22179       Yoko Ono                        Wake Up   \n",
       "...              ...                            ...   \n",
       "49577      Quicksand  It Would Be Cooler If You Did   \n",
       "30522  Dream Theater            Beneath The Surface   \n",
       "14533         O.A.R.                          James   \n",
       "24363  Avril Lavigne                         4 Real   \n",
       "20983  Wanda Jackson                  Fujiyama Mama   \n",
       "\n",
       "                                                    text  \n",
       "33456  Many too many have stood where I stand  \\r\\nMa...  \n",
       "9765   She pulls the shade  \\r\\nIt's just another sun...  \n",
       "45293  Say that you'll marry me  \\r\\nSometimes carry ...  \n",
       "4010   There once was a woman  \\r\\nA strange kind of ...  \n",
       "22179  Mm-mm, mm-mm, mm-mm,  \\r\\nMm-mm, mm-mm, mm-mm....  \n",
       "...                                                  ...  \n",
       "49577  If, you turn, turn away,  \\r\\nI, can pretend, ...  \n",
       "30522  Is there ever really a right time  \\r\\nYou had...  \n",
       "14533  You said, \"Young man, don't rely on a sword,  ...  \n",
       "24363  If I show you  \\r\\nGet to know you  \\r\\nIf I h...  \n",
       "20983  I've been to Nagasaki Hiroshima too the same I...  \n",
       "\n",
       "[5000 rows x 3 columns]"
      ]
     },
     "execution_count": 12,
     "metadata": {},
     "output_type": "execute_result"
    }
   ],
   "source": [
    "df.sample(5000)"
   ]
  },
  {
   "cell_type": "code",
   "execution_count": 13,
   "id": "ecf5bcc6",
   "metadata": {},
   "outputs": [],
   "source": [
    "df = df.sample(5000)"
   ]
  },
  {
   "cell_type": "code",
   "execution_count": 14,
   "id": "16cf7fd1",
   "metadata": {},
   "outputs": [
    {
     "data": {
      "text/html": [
       "<div>\n",
       "<style scoped>\n",
       "    .dataframe tbody tr th:only-of-type {\n",
       "        vertical-align: middle;\n",
       "    }\n",
       "\n",
       "    .dataframe tbody tr th {\n",
       "        vertical-align: top;\n",
       "    }\n",
       "\n",
       "    .dataframe thead th {\n",
       "        text-align: right;\n",
       "    }\n",
       "</style>\n",
       "<table border=\"1\" class=\"dataframe\">\n",
       "  <thead>\n",
       "    <tr style=\"text-align: right;\">\n",
       "      <th></th>\n",
       "      <th>artist</th>\n",
       "      <th>song</th>\n",
       "      <th>text</th>\n",
       "    </tr>\n",
       "  </thead>\n",
       "  <tbody>\n",
       "    <tr>\n",
       "      <th>50238</th>\n",
       "      <td>Ray Boltz</td>\n",
       "      <td>Is There A Heaven For Me</td>\n",
       "      <td>Is There A Heaven For Me?  \\r\\nWords by Ray Bo...</td>\n",
       "    </tr>\n",
       "    <tr>\n",
       "      <th>11713</th>\n",
       "      <td>Linkin Park</td>\n",
       "      <td>Wretches And Kings</td>\n",
       "      <td>There's a time, when the operation of the mach...</td>\n",
       "    </tr>\n",
       "    <tr>\n",
       "      <th>47632</th>\n",
       "      <td>Paul McCartney</td>\n",
       "      <td>I Saw Her Standing There</td>\n",
       "      <td>1-2-3-4!  \\r\\n  \\r\\nWell, she was just 17,  \\r...</td>\n",
       "    </tr>\n",
       "    <tr>\n",
       "      <th>53685</th>\n",
       "      <td>Tori Amos</td>\n",
       "      <td>Merman</td>\n",
       "      <td>Go to bed  \\r\\nThe priests are dead  \\r\\nNow n...</td>\n",
       "    </tr>\n",
       "    <tr>\n",
       "      <th>2507</th>\n",
       "      <td>Cheap Trick</td>\n",
       "      <td>Wrong All Along</td>\n",
       "      <td>Been wrong all along  \\r\\nI've been wrong all ...</td>\n",
       "    </tr>\n",
       "  </tbody>\n",
       "</table>\n",
       "</div>"
      ],
      "text/plain": [
       "               artist                      song  \\\n",
       "50238       Ray Boltz  Is There A Heaven For Me   \n",
       "11713     Linkin Park        Wretches And Kings   \n",
       "47632  Paul McCartney  I Saw Her Standing There   \n",
       "53685       Tori Amos                    Merman   \n",
       "2507      Cheap Trick           Wrong All Along   \n",
       "\n",
       "                                                    text  \n",
       "50238  Is There A Heaven For Me?  \\r\\nWords by Ray Bo...  \n",
       "11713  There's a time, when the operation of the mach...  \n",
       "47632  1-2-3-4!  \\r\\n  \\r\\nWell, she was just 17,  \\r...  \n",
       "53685  Go to bed  \\r\\nThe priests are dead  \\r\\nNow n...  \n",
       "2507   Been wrong all along  \\r\\nI've been wrong all ...  "
      ]
     },
     "execution_count": 14,
     "metadata": {},
     "output_type": "execute_result"
    }
   ],
   "source": [
    "df.head(5)"
   ]
  },
  {
   "cell_type": "markdown",
   "id": "6aea4156",
   "metadata": {},
   "source": [
    "Cleaning"
   ]
  },
  {
   "cell_type": "code",
   "execution_count": 22,
   "id": "64f4117c",
   "metadata": {},
   "outputs": [],
   "source": [
    "df['text']=df['text'].str.lower().replace('r^\\w\\s',' ').replace(r'\\n',' ', regex=True)"
   ]
  },
  {
   "cell_type": "code",
   "execution_count": 23,
   "id": "87738328",
   "metadata": {},
   "outputs": [
    {
     "data": {
      "text/html": [
       "<div>\n",
       "<style scoped>\n",
       "    .dataframe tbody tr th:only-of-type {\n",
       "        vertical-align: middle;\n",
       "    }\n",
       "\n",
       "    .dataframe tbody tr th {\n",
       "        vertical-align: top;\n",
       "    }\n",
       "\n",
       "    .dataframe thead th {\n",
       "        text-align: right;\n",
       "    }\n",
       "</style>\n",
       "<table border=\"1\" class=\"dataframe\">\n",
       "  <thead>\n",
       "    <tr style=\"text-align: right;\">\n",
       "      <th></th>\n",
       "      <th>artist</th>\n",
       "      <th>song</th>\n",
       "      <th>text</th>\n",
       "    </tr>\n",
       "  </thead>\n",
       "  <tbody>\n",
       "    <tr>\n",
       "      <th>50238</th>\n",
       "      <td>Ray Boltz</td>\n",
       "      <td>Is There A Heaven For Me</td>\n",
       "      <td>is there a heaven for me?  \\r words by ray bol...</td>\n",
       "    </tr>\n",
       "    <tr>\n",
       "      <th>11713</th>\n",
       "      <td>Linkin Park</td>\n",
       "      <td>Wretches And Kings</td>\n",
       "      <td>there's a time, when the operation of the mach...</td>\n",
       "    </tr>\n",
       "    <tr>\n",
       "      <th>47632</th>\n",
       "      <td>Paul McCartney</td>\n",
       "      <td>I Saw Her Standing There</td>\n",
       "      <td>1-2-3-4!  \\r   \\r well, she was just 17,  \\r y...</td>\n",
       "    </tr>\n",
       "    <tr>\n",
       "      <th>53685</th>\n",
       "      <td>Tori Amos</td>\n",
       "      <td>Merman</td>\n",
       "      <td>go to bed  \\r the priests are dead  \\r now no ...</td>\n",
       "    </tr>\n",
       "    <tr>\n",
       "      <th>2507</th>\n",
       "      <td>Cheap Trick</td>\n",
       "      <td>Wrong All Along</td>\n",
       "      <td>been wrong all along  \\r i've been wrong all a...</td>\n",
       "    </tr>\n",
       "  </tbody>\n",
       "</table>\n",
       "</div>"
      ],
      "text/plain": [
       "               artist                      song  \\\n",
       "50238       Ray Boltz  Is There A Heaven For Me   \n",
       "11713     Linkin Park        Wretches And Kings   \n",
       "47632  Paul McCartney  I Saw Her Standing There   \n",
       "53685       Tori Amos                    Merman   \n",
       "2507      Cheap Trick           Wrong All Along   \n",
       "\n",
       "                                                    text  \n",
       "50238  is there a heaven for me?  \\r words by ray bol...  \n",
       "11713  there's a time, when the operation of the mach...  \n",
       "47632  1-2-3-4!  \\r   \\r well, she was just 17,  \\r y...  \n",
       "53685  go to bed  \\r the priests are dead  \\r now no ...  \n",
       "2507   been wrong all along  \\r i've been wrong all a...  "
      ]
     },
     "execution_count": 23,
     "metadata": {},
     "output_type": "execute_result"
    }
   ],
   "source": [
    "df.head(5)"
   ]
  },
  {
   "cell_type": "code",
   "execution_count": 52,
   "id": "86929ebf",
   "metadata": {},
   "outputs": [
    {
     "data": {
      "text/plain": [
       "\"is there a heaven for me?  \\r words by ray boltz, music by ray boltz and steve millikan  \\r she heard him preaching in the church  \\r she tried but she could not get in  \\r she was a lonely child on the street  \\r the wind was cold against her skin  \\r the wind was cold against her skin  \\r she heard the sound  \\r of strange new words  \\r that someone else would then explain  \\r they spoke of heaven  \\r and a saviors love  \\r they said that jesus was his name  \\r chorus:  \\r is there a heaven for me?  \\r a place i wont be hungry or cold?  \\r that is a place that i would love to see  \\r is there a heaven for me  \\r she waited patiently for hours  \\r until at last she saw him leave  \\r he couldn't understand  \\r the words she said  \\r so he asked tell me what she needs  \\r chorus (repeat)  \\r and on that street they knelt and prayed  \\r and on that night a child was saved  \\r listen closely and you'll hear  \\r more than just a girl  \\r youll hear the children of the world  \\r youll hear the children of the world  \\r chorus (repeat 2x)  \\r 1996 shepherd boy musicascap (adm. by word, inc.) and weedom\\r \\r \""
      ]
     },
     "execution_count": 52,
     "metadata": {},
     "output_type": "execute_result"
    }
   ],
   "source": [
    "df['text'][50238]"
   ]
  },
  {
   "cell_type": "markdown",
   "id": "cd2d790e",
   "metadata": {},
   "source": [
    "Tokenization và Vectorization"
   ]
  },
  {
   "cell_type": "code",
   "execution_count": 41,
   "id": "32ffcfe7",
   "metadata": {},
   "outputs": [
    {
     "name": "stderr",
     "output_type": "stream",
     "text": [
      "[nltk_data] Downloading package punkt to\n",
      "[nltk_data]     C:\\Users\\admin\\AppData\\Roaming\\nltk_data...\n",
      "[nltk_data]   Unzipping tokenizers\\punkt.zip.\n"
     ]
    },
    {
     "data": {
      "text/plain": [
       "True"
      ]
     },
     "execution_count": 41,
     "metadata": {},
     "output_type": "execute_result"
    }
   ],
   "source": [
    "import nltk\n",
    "from nltk.stem.porter import PorterStemmer\n"
   ]
  },
  {
   "cell_type": "code",
   "execution_count": 42,
   "id": "b43671c6",
   "metadata": {},
   "outputs": [],
   "source": [
    "stemmer = PorterStemmer()"
   ]
  },
  {
   "cell_type": "code",
   "execution_count": 43,
   "id": "4f43f410",
   "metadata": {},
   "outputs": [],
   "source": [
    "def token(txt):\n",
    "    token = nltk.word_tokenize(txt) # tách chuỗi văn bản thành các từ  riêng lẻ\n",
    "    a = [stemmer.stem(w) for w in token] # duyệt qua từng từ trong token và chuyển về dạng gốc\n",
    "    return \" \".join(a) # ghép các từ trong list a thành một chuỗi, ngăn cách bởi dấu \" \""
   ]
  },
  {
   "cell_type": "code",
   "execution_count": 47,
   "id": "d01e6b17",
   "metadata": {},
   "outputs": [
    {
     "data": {
      "text/plain": [
       "'you are beauti'"
      ]
     },
     "execution_count": 47,
     "metadata": {},
     "output_type": "execute_result"
    }
   ],
   "source": [
    "token(\"you are beautiful\")"
   ]
  },
  {
   "cell_type": "code",
   "execution_count": 53,
   "id": "f1207a39",
   "metadata": {},
   "outputs": [
    {
     "data": {
      "text/plain": [
       "50238    is there a heaven for me ? word by ray boltz ,...\n",
       "11713    there 's a time , when the oper of the machin ...\n",
       "47632    1-2-3-4 ! well , she wa just 17 , you know wha...\n",
       "53685    go to bed the priest are dead now no one can c...\n",
       "2507     been wrong all along i 've been wrong all alon...\n",
       "                               ...                        \n",
       "32687    [ vers 1 ] blast on near a wall tell it or say...\n",
       "33366    i thought i heard someon cri , thought i heard...\n",
       "49570    welcom my son welcom to the machin where have ...\n",
       "17995    i said , `` oh no , doncha follow me no more ....\n",
       "30605    come for a dream come and love in the sun come...\n",
       "Name: text, Length: 5000, dtype: object"
      ]
     },
     "execution_count": 53,
     "metadata": {},
     "output_type": "execute_result"
    }
   ],
   "source": [
    "df['text'].apply(lambda x: token(x))"
   ]
  },
  {
   "cell_type": "code",
   "execution_count": 54,
   "id": "0a5455c2",
   "metadata": {},
   "outputs": [],
   "source": [
    "from sklearn.feature_extraction.text import TfidfVectorizer\n",
    "from sklearn.metrics.pairwise import cosine_similarity"
   ]
  },
  {
   "cell_type": "code",
   "execution_count": 57,
   "id": "4196ee9b",
   "metadata": {},
   "outputs": [],
   "source": [
    "tfid = TfidfVectorizer(analyzer='word', stop_words='english')\n",
    "# sử dụng từ riêng lẻ trong văn bản để tạo vector, các option khác: char, char_wb\n",
    "# stopwords: loại bỏ các từ không mang ý nghĩa như \"a\", \"an\", \"the\", \"me\", ..."
   ]
  },
  {
   "cell_type": "code",
   "execution_count": 58,
   "id": "4fdd1277",
   "metadata": {},
   "outputs": [],
   "source": [
    "matrix = tfid.fit_transform(df['text'])"
   ]
  },
  {
   "cell_type": "code",
   "execution_count": 60,
   "id": "79f7198f",
   "metadata": {},
   "outputs": [],
   "source": [
    "similer = cosine_similarity(matrix)\n",
    "## Kết quả là một ma trận đối xứng, giá trị ở hàng thứ i và cột thứ j thể hiện độ tương đồng cosin giữa hai vector biểu diễn văn bản i và j trong tập dữ liệu."
   ]
  },
  {
   "cell_type": "code",
   "execution_count": 61,
   "id": "56e13ff6",
   "metadata": {},
   "outputs": [
    {
     "data": {
      "text/plain": [
       "array([1.        , 0.02322873, 0.03714578, ..., 0.        , 0.0217215 ,\n",
       "       0.02222368])"
      ]
     },
     "execution_count": 61,
     "metadata": {},
     "output_type": "execute_result"
    }
   ],
   "source": [
    "similer[0]"
   ]
  },
  {
   "cell_type": "code",
   "execution_count": null,
   "id": "19b8ebd6",
   "metadata": {},
   "outputs": [],
   "source": []
  }
 ],
 "metadata": {
  "kernelspec": {
   "display_name": "Python 3 (ipykernel)",
   "language": "python",
   "name": "python3"
  },
  "language_info": {
   "codemirror_mode": {
    "name": "ipython",
    "version": 3
   },
   "file_extension": ".py",
   "mimetype": "text/x-python",
   "name": "python",
   "nbconvert_exporter": "python",
   "pygments_lexer": "ipython3",
   "version": "3.11.5"
  }
 },
 "nbformat": 4,
 "nbformat_minor": 5
}
