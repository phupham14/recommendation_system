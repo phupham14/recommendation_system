{
 "cells": [
  {
   "cell_type": "code",
   "execution_count": 27,
   "id": "4f878176",
   "metadata": {},
   "outputs": [],
   "source": [
    "import pandas as pd"
   ]
  },
  {
   "cell_type": "code",
   "execution_count": 28,
   "id": "9ab3542e",
   "metadata": {},
   "outputs": [],
   "source": [
    "#Loading data\n",
    "df = pd.read_csv(\"D:\\\\archive\\\\spotify_millsongdata.csv\")"
   ]
  },
  {
   "cell_type": "code",
   "execution_count": 29,
   "id": "454a6248",
   "metadata": {},
   "outputs": [
    {
     "data": {
      "text/plain": [
       "(57650, 4)"
      ]
     },
     "execution_count": 29,
     "metadata": {},
     "output_type": "execute_result"
    }
   ],
   "source": [
    "df.shape"
   ]
  },
  {
   "cell_type": "code",
   "execution_count": 30,
   "id": "a9e74a9f",
   "metadata": {},
   "outputs": [
    {
     "data": {
      "text/plain": [
       "artist    0\n",
       "song      0\n",
       "link      0\n",
       "text      0\n",
       "dtype: int64"
      ]
     },
     "execution_count": 30,
     "metadata": {},
     "output_type": "execute_result"
    }
   ],
   "source": [
    "#Kiểm tra các ô null\n",
    "df.isnull().sum()"
   ]
  },
  {
   "cell_type": "code",
   "execution_count": 31,
   "id": "94f3079c",
   "metadata": {},
   "outputs": [],
   "source": [
    "df = df.drop('link', axis = 1)"
   ]
  },
  {
   "cell_type": "code",
   "execution_count": 32,
   "id": "8929a997",
   "metadata": {},
   "outputs": [
    {
     "data": {
      "text/html": [
       "<div>\n",
       "<style scoped>\n",
       "    .dataframe tbody tr th:only-of-type {\n",
       "        vertical-align: middle;\n",
       "    }\n",
       "\n",
       "    .dataframe tbody tr th {\n",
       "        vertical-align: top;\n",
       "    }\n",
       "\n",
       "    .dataframe thead th {\n",
       "        text-align: right;\n",
       "    }\n",
       "</style>\n",
       "<table border=\"1\" class=\"dataframe\">\n",
       "  <thead>\n",
       "    <tr style=\"text-align: right;\">\n",
       "      <th></th>\n",
       "      <th>artist</th>\n",
       "      <th>song</th>\n",
       "      <th>text</th>\n",
       "    </tr>\n",
       "  </thead>\n",
       "  <tbody>\n",
       "    <tr>\n",
       "      <th>0</th>\n",
       "      <td>ABBA</td>\n",
       "      <td>Ahe's My Kind Of Girl</td>\n",
       "      <td>Look at her face, it's a wonderful face  \\r\\nA...</td>\n",
       "    </tr>\n",
       "    <tr>\n",
       "      <th>1</th>\n",
       "      <td>ABBA</td>\n",
       "      <td>Andante, Andante</td>\n",
       "      <td>Take it easy with me, please  \\r\\nTouch me gen...</td>\n",
       "    </tr>\n",
       "    <tr>\n",
       "      <th>2</th>\n",
       "      <td>ABBA</td>\n",
       "      <td>As Good As New</td>\n",
       "      <td>I'll never know why I had to go  \\r\\nWhy I had...</td>\n",
       "    </tr>\n",
       "    <tr>\n",
       "      <th>3</th>\n",
       "      <td>ABBA</td>\n",
       "      <td>Bang</td>\n",
       "      <td>Making somebody happy is a question of give an...</td>\n",
       "    </tr>\n",
       "    <tr>\n",
       "      <th>4</th>\n",
       "      <td>ABBA</td>\n",
       "      <td>Bang-A-Boomerang</td>\n",
       "      <td>Making somebody happy is a question of give an...</td>\n",
       "    </tr>\n",
       "  </tbody>\n",
       "</table>\n",
       "</div>"
      ],
      "text/plain": [
       "  artist                   song  \\\n",
       "0   ABBA  Ahe's My Kind Of Girl   \n",
       "1   ABBA       Andante, Andante   \n",
       "2   ABBA         As Good As New   \n",
       "3   ABBA                   Bang   \n",
       "4   ABBA       Bang-A-Boomerang   \n",
       "\n",
       "                                                text  \n",
       "0  Look at her face, it's a wonderful face  \\r\\nA...  \n",
       "1  Take it easy with me, please  \\r\\nTouch me gen...  \n",
       "2  I'll never know why I had to go  \\r\\nWhy I had...  \n",
       "3  Making somebody happy is a question of give an...  \n",
       "4  Making somebody happy is a question of give an...  "
      ]
     },
     "execution_count": 32,
     "metadata": {},
     "output_type": "execute_result"
    }
   ],
   "source": [
    "df.head(5)"
   ]
  },
  {
   "cell_type": "code",
   "execution_count": 33,
   "id": "50240805",
   "metadata": {},
   "outputs": [
    {
     "data": {
      "text/plain": [
       "\"Look at her face, it's a wonderful face  \\r\\nAnd it means something special to me  \\r\\nLook at the way that she smiles when she sees me  \\r\\nHow lucky can one fellow be?  \\r\\n  \\r\\nShe's just my kind of girl, she makes me feel fine  \\r\\nWho could ever believe that she could be mine?  \\r\\nShe's just my kind of girl, without her I'm blue  \\r\\nAnd if she ever leaves me what could I do, what could I do?  \\r\\n  \\r\\nAnd when we go for a walk in the park  \\r\\nAnd she holds me and squeezes my hand  \\r\\nWe'll go on walking for hours and talking  \\r\\nAbout all the things that we plan  \\r\\n  \\r\\nShe's just my kind of girl, she makes me feel fine  \\r\\nWho could ever believe that she could be mine?  \\r\\nShe's just my kind of girl, without her I'm blue  \\r\\nAnd if she ever leaves me what could I do, what could I do?\\r\\n\\r\\n\""
      ]
     },
     "execution_count": 33,
     "metadata": {},
     "output_type": "execute_result"
    }
   ],
   "source": [
    "df['text'][0]"
   ]
  },
  {
   "cell_type": "code",
   "execution_count": 34,
   "id": "b657a7fa",
   "metadata": {},
   "outputs": [
    {
     "data": {
      "text/html": [
       "<div>\n",
       "<style scoped>\n",
       "    .dataframe tbody tr th:only-of-type {\n",
       "        vertical-align: middle;\n",
       "    }\n",
       "\n",
       "    .dataframe tbody tr th {\n",
       "        vertical-align: top;\n",
       "    }\n",
       "\n",
       "    .dataframe thead th {\n",
       "        text-align: right;\n",
       "    }\n",
       "</style>\n",
       "<table border=\"1\" class=\"dataframe\">\n",
       "  <thead>\n",
       "    <tr style=\"text-align: right;\">\n",
       "      <th></th>\n",
       "      <th>artist</th>\n",
       "      <th>song</th>\n",
       "      <th>text</th>\n",
       "    </tr>\n",
       "  </thead>\n",
       "  <tbody>\n",
       "    <tr>\n",
       "      <th>20230</th>\n",
       "      <td>Uriah Heep</td>\n",
       "      <td>Cry Freedom</td>\n",
       "      <td>She told the story  \\r\\nI listened with my eye...</td>\n",
       "    </tr>\n",
       "    <tr>\n",
       "      <th>31923</th>\n",
       "      <td>Europe</td>\n",
       "      <td>Here Comes The Night</td>\n",
       "      <td>Here comes the night  \\r\\nIt's gonna be a long...</td>\n",
       "    </tr>\n",
       "    <tr>\n",
       "      <th>24080</th>\n",
       "      <td>Andy Williams</td>\n",
       "      <td>Blue Hawaii</td>\n",
       "      <td>Night and you and blue hawaii  \\r\\nThe night i...</td>\n",
       "    </tr>\n",
       "    <tr>\n",
       "      <th>46270</th>\n",
       "      <td>Norah Jones</td>\n",
       "      <td>She's 22</td>\n",
       "      <td>She's twenty two  \\r\\nAnd she's loving you  \\r...</td>\n",
       "    </tr>\n",
       "    <tr>\n",
       "      <th>36121</th>\n",
       "      <td>Hollies</td>\n",
       "      <td>Lucille</td>\n",
       "      <td>Lucille, you don't do your daddy's will  \\r\\nL...</td>\n",
       "    </tr>\n",
       "    <tr>\n",
       "      <th>...</th>\n",
       "      <td>...</td>\n",
       "      <td>...</td>\n",
       "      <td>...</td>\n",
       "    </tr>\n",
       "    <tr>\n",
       "      <th>1649</th>\n",
       "      <td>Bob Marley</td>\n",
       "      <td>Try Me</td>\n",
       "      <td>Try me (try me)  \\r\\nTry me (try me)  \\r\\nTry ...</td>\n",
       "    </tr>\n",
       "    <tr>\n",
       "      <th>11643</th>\n",
       "      <td>Linda Ronstadt</td>\n",
       "      <td>Let's Get Together</td>\n",
       "      <td>Love is but a song we sing  \\r\\nFear a way we ...</td>\n",
       "    </tr>\n",
       "    <tr>\n",
       "      <th>46546</th>\n",
       "      <td>Offspring</td>\n",
       "      <td>Video Killed The Radio Star</td>\n",
       "      <td>I heard you on my wireless back in '52  \\r\\nLy...</td>\n",
       "    </tr>\n",
       "    <tr>\n",
       "      <th>3870</th>\n",
       "      <td>Dean Martin</td>\n",
       "      <td>Artists And Models (feat. Jerry Lewis)</td>\n",
       "      <td>You can trace the mystery of ancient history  ...</td>\n",
       "    </tr>\n",
       "    <tr>\n",
       "      <th>51945</th>\n",
       "      <td>Squeeze</td>\n",
       "      <td>Cupid's Toy</td>\n",
       "      <td>He stalks the club with cupid's toy  \\r\\nForem...</td>\n",
       "    </tr>\n",
       "  </tbody>\n",
       "</table>\n",
       "<p>5000 rows × 3 columns</p>\n",
       "</div>"
      ],
      "text/plain": [
       "               artist                                    song  \\\n",
       "20230      Uriah Heep                             Cry Freedom   \n",
       "31923          Europe                    Here Comes The Night   \n",
       "24080   Andy Williams                             Blue Hawaii   \n",
       "46270     Norah Jones                                She's 22   \n",
       "36121         Hollies                                 Lucille   \n",
       "...               ...                                     ...   \n",
       "1649       Bob Marley                                  Try Me   \n",
       "11643  Linda Ronstadt                      Let's Get Together   \n",
       "46546       Offspring             Video Killed The Radio Star   \n",
       "3870      Dean Martin  Artists And Models (feat. Jerry Lewis)   \n",
       "51945         Squeeze                             Cupid's Toy   \n",
       "\n",
       "                                                    text  \n",
       "20230  She told the story  \\r\\nI listened with my eye...  \n",
       "31923  Here comes the night  \\r\\nIt's gonna be a long...  \n",
       "24080  Night and you and blue hawaii  \\r\\nThe night i...  \n",
       "46270  She's twenty two  \\r\\nAnd she's loving you  \\r...  \n",
       "36121  Lucille, you don't do your daddy's will  \\r\\nL...  \n",
       "...                                                  ...  \n",
       "1649   Try me (try me)  \\r\\nTry me (try me)  \\r\\nTry ...  \n",
       "11643  Love is but a song we sing  \\r\\nFear a way we ...  \n",
       "46546  I heard you on my wireless back in '52  \\r\\nLy...  \n",
       "3870   You can trace the mystery of ancient history  ...  \n",
       "51945  He stalks the club with cupid's toy  \\r\\nForem...  \n",
       "\n",
       "[5000 rows x 3 columns]"
      ]
     },
     "execution_count": 34,
     "metadata": {},
     "output_type": "execute_result"
    }
   ],
   "source": [
    "df.sample(5000)"
   ]
  },
  {
   "cell_type": "code",
   "execution_count": 35,
   "id": "ecf5bcc6",
   "metadata": {},
   "outputs": [],
   "source": [
    "df = df.sample(5000)"
   ]
  },
  {
   "cell_type": "code",
   "execution_count": 36,
   "id": "16cf7fd1",
   "metadata": {},
   "outputs": [
    {
     "data": {
      "text/html": [
       "<div>\n",
       "<style scoped>\n",
       "    .dataframe tbody tr th:only-of-type {\n",
       "        vertical-align: middle;\n",
       "    }\n",
       "\n",
       "    .dataframe tbody tr th {\n",
       "        vertical-align: top;\n",
       "    }\n",
       "\n",
       "    .dataframe thead th {\n",
       "        text-align: right;\n",
       "    }\n",
       "</style>\n",
       "<table border=\"1\" class=\"dataframe\">\n",
       "  <thead>\n",
       "    <tr style=\"text-align: right;\">\n",
       "      <th></th>\n",
       "      <th>artist</th>\n",
       "      <th>song</th>\n",
       "      <th>text</th>\n",
       "    </tr>\n",
       "  </thead>\n",
       "  <tbody>\n",
       "    <tr>\n",
       "      <th>36903</th>\n",
       "      <td>Ingrid Michaelson</td>\n",
       "      <td>Sort Of</td>\n",
       "      <td>Baby you've got the sort of hands to rip me ap...</td>\n",
       "    </tr>\n",
       "    <tr>\n",
       "      <th>24498</th>\n",
       "      <td>Backstreet Boys</td>\n",
       "      <td>Larger Than Life</td>\n",
       "      <td>I may run and hide  \\r\\nWhen you're screamin' ...</td>\n",
       "    </tr>\n",
       "    <tr>\n",
       "      <th>23558</th>\n",
       "      <td>Alison Krauss</td>\n",
       "      <td>Blue Trail Of Sorrow</td>\n",
       "      <td>Blue trail of sorrow  \\r\\nLies upon the ground...</td>\n",
       "    </tr>\n",
       "    <tr>\n",
       "      <th>24083</th>\n",
       "      <td>Andy Williams</td>\n",
       "      <td>Butterfly</td>\n",
       "      <td>You tell me you love me, you say you'll be tru...</td>\n",
       "    </tr>\n",
       "    <tr>\n",
       "      <th>45374</th>\n",
       "      <td>Neil Young</td>\n",
       "      <td>American Dream</td>\n",
       "      <td>I used to see you  \\r\\nOn every T. V.  \\r\\nYou...</td>\n",
       "    </tr>\n",
       "  </tbody>\n",
       "</table>\n",
       "</div>"
      ],
      "text/plain": [
       "                  artist                  song  \\\n",
       "36903  Ingrid Michaelson               Sort Of   \n",
       "24498    Backstreet Boys      Larger Than Life   \n",
       "23558      Alison Krauss  Blue Trail Of Sorrow   \n",
       "24083      Andy Williams             Butterfly   \n",
       "45374         Neil Young        American Dream   \n",
       "\n",
       "                                                    text  \n",
       "36903  Baby you've got the sort of hands to rip me ap...  \n",
       "24498  I may run and hide  \\r\\nWhen you're screamin' ...  \n",
       "23558  Blue trail of sorrow  \\r\\nLies upon the ground...  \n",
       "24083  You tell me you love me, you say you'll be tru...  \n",
       "45374  I used to see you  \\r\\nOn every T. V.  \\r\\nYou...  "
      ]
     },
     "execution_count": 36,
     "metadata": {},
     "output_type": "execute_result"
    }
   ],
   "source": [
    "df.head(5)"
   ]
  },
  {
   "cell_type": "markdown",
   "id": "6aea4156",
   "metadata": {},
   "source": [
    "Cleaning"
   ]
  },
  {
   "cell_type": "code",
   "execution_count": 37,
   "id": "64f4117c",
   "metadata": {},
   "outputs": [],
   "source": [
    "df['text']=df['text'].str.lower().replace('r^\\w\\s',' ').replace(r'\\n',' ', regex=True)"
   ]
  },
  {
   "cell_type": "code",
   "execution_count": 38,
   "id": "87738328",
   "metadata": {},
   "outputs": [
    {
     "data": {
      "text/html": [
       "<div>\n",
       "<style scoped>\n",
       "    .dataframe tbody tr th:only-of-type {\n",
       "        vertical-align: middle;\n",
       "    }\n",
       "\n",
       "    .dataframe tbody tr th {\n",
       "        vertical-align: top;\n",
       "    }\n",
       "\n",
       "    .dataframe thead th {\n",
       "        text-align: right;\n",
       "    }\n",
       "</style>\n",
       "<table border=\"1\" class=\"dataframe\">\n",
       "  <thead>\n",
       "    <tr style=\"text-align: right;\">\n",
       "      <th></th>\n",
       "      <th>artist</th>\n",
       "      <th>song</th>\n",
       "      <th>text</th>\n",
       "    </tr>\n",
       "  </thead>\n",
       "  <tbody>\n",
       "    <tr>\n",
       "      <th>36903</th>\n",
       "      <td>Ingrid Michaelson</td>\n",
       "      <td>Sort Of</td>\n",
       "      <td>baby you've got the sort of hands to rip me ap...</td>\n",
       "    </tr>\n",
       "    <tr>\n",
       "      <th>24498</th>\n",
       "      <td>Backstreet Boys</td>\n",
       "      <td>Larger Than Life</td>\n",
       "      <td>i may run and hide  \\r when you're screamin' m...</td>\n",
       "    </tr>\n",
       "    <tr>\n",
       "      <th>23558</th>\n",
       "      <td>Alison Krauss</td>\n",
       "      <td>Blue Trail Of Sorrow</td>\n",
       "      <td>blue trail of sorrow  \\r lies upon the ground ...</td>\n",
       "    </tr>\n",
       "    <tr>\n",
       "      <th>24083</th>\n",
       "      <td>Andy Williams</td>\n",
       "      <td>Butterfly</td>\n",
       "      <td>you tell me you love me, you say you'll be tru...</td>\n",
       "    </tr>\n",
       "    <tr>\n",
       "      <th>45374</th>\n",
       "      <td>Neil Young</td>\n",
       "      <td>American Dream</td>\n",
       "      <td>i used to see you  \\r on every t. v.  \\r your ...</td>\n",
       "    </tr>\n",
       "  </tbody>\n",
       "</table>\n",
       "</div>"
      ],
      "text/plain": [
       "                  artist                  song  \\\n",
       "36903  Ingrid Michaelson               Sort Of   \n",
       "24498    Backstreet Boys      Larger Than Life   \n",
       "23558      Alison Krauss  Blue Trail Of Sorrow   \n",
       "24083      Andy Williams             Butterfly   \n",
       "45374         Neil Young        American Dream   \n",
       "\n",
       "                                                    text  \n",
       "36903  baby you've got the sort of hands to rip me ap...  \n",
       "24498  i may run and hide  \\r when you're screamin' m...  \n",
       "23558  blue trail of sorrow  \\r lies upon the ground ...  \n",
       "24083  you tell me you love me, you say you'll be tru...  \n",
       "45374  i used to see you  \\r on every t. v.  \\r your ...  "
      ]
     },
     "execution_count": 38,
     "metadata": {},
     "output_type": "execute_result"
    }
   ],
   "source": [
    "df.head(5)"
   ]
  },
  {
   "cell_type": "markdown",
   "id": "cd2d790e",
   "metadata": {},
   "source": [
    "Tokenization và Vectorization"
   ]
  },
  {
   "cell_type": "code",
   "execution_count": 39,
   "id": "32ffcfe7",
   "metadata": {},
   "outputs": [],
   "source": [
    "import nltk\n",
    "from nltk.stem.porter import PorterStemmer\n"
   ]
  },
  {
   "cell_type": "code",
   "execution_count": 40,
   "id": "b43671c6",
   "metadata": {},
   "outputs": [],
   "source": [
    "stemmer = PorterStemmer()"
   ]
  },
  {
   "cell_type": "code",
   "execution_count": 41,
   "id": "4f43f410",
   "metadata": {},
   "outputs": [],
   "source": [
    "def token(txt):\n",
    "    token = nltk.word_tokenize(txt) # tách chuỗi văn bản thành các từ  riêng lẻ\n",
    "    a = [stemmer.stem(w) for w in token] # duyệt qua từng từ trong token và chuyển về dạng gốc\n",
    "    return \" \".join(a) # ghép các từ trong list a thành một chuỗi, ngăn cách bởi dấu \" \""
   ]
  },
  {
   "cell_type": "code",
   "execution_count": 42,
   "id": "d01e6b17",
   "metadata": {},
   "outputs": [
    {
     "data": {
      "text/plain": [
       "'you are beauti'"
      ]
     },
     "execution_count": 42,
     "metadata": {},
     "output_type": "execute_result"
    }
   ],
   "source": [
    "token(\"you are beautiful\")"
   ]
  },
  {
   "cell_type": "code",
   "execution_count": 43,
   "id": "f1207a39",
   "metadata": {},
   "outputs": [
    {
     "data": {
      "text/plain": [
       "36903    babi you 've got the sort of hand to rip me ap...\n",
       "24498    i may run and hide when you 're screamin ' my ...\n",
       "23558    blue trail of sorrow lie upon the ground and i...\n",
       "24083    you tell me you love me , you say you 'll be t...\n",
       "45374    i use to see you on everi t. v. your smile fac...\n",
       "                               ...                        \n",
       "50391    mhmmm , mhmmm , owwww , yeahhhhhh ! well i can...\n",
       "2368     i 'm in the mood to end these empti day ever w...\n",
       "48582    you pick me up when i am down and on my own yo...\n",
       "22460    i want a wreck ball i want to break it all i w...\n",
       "48239    put your faith in what you most believ in two ...\n",
       "Name: text, Length: 5000, dtype: object"
      ]
     },
     "execution_count": 43,
     "metadata": {},
     "output_type": "execute_result"
    }
   ],
   "source": [
    "df['text'].apply(lambda x: token(x))"
   ]
  },
  {
   "cell_type": "code",
   "execution_count": 44,
   "id": "0a5455c2",
   "metadata": {},
   "outputs": [],
   "source": [
    "from sklearn.feature_extraction.text import TfidfVectorizer\n",
    "from sklearn.metrics.pairwise import cosine_similarity"
   ]
  },
  {
   "cell_type": "code",
   "execution_count": 45,
   "id": "4196ee9b",
   "metadata": {},
   "outputs": [],
   "source": [
    "tfid = TfidfVectorizer(analyzer='word', stop_words='english')\n",
    "# sử dụng từ riêng lẻ trong văn bản để tạo vector, các option khác: char, char_wb\n",
    "# stopwords: loại bỏ các từ không mang ý nghĩa như \"a\", \"an\", \"the\", \"me\", ..."
   ]
  },
  {
   "cell_type": "code",
   "execution_count": 46,
   "id": "4fdd1277",
   "metadata": {},
   "outputs": [],
   "source": [
    "matrix = tfid.fit_transform(df['text'])"
   ]
  },
  {
   "cell_type": "code",
   "execution_count": 47,
   "id": "79f7198f",
   "metadata": {},
   "outputs": [],
   "source": [
    "similer = cosine_similarity(matrix)\n",
    "## Kết quả là một ma trận đối xứng, giá trị ở hàng thứ i và cột thứ j thể hiện độ tương đồng cosin giữa hai vector biểu diễn văn bản i và j trong tập dữ liệu."
   ]
  },
  {
   "cell_type": "code",
   "execution_count": 48,
   "id": "56e13ff6",
   "metadata": {},
   "outputs": [
    {
     "data": {
      "text/plain": [
       "array([1.        , 0.03153122, 0.06696515, ..., 0.        , 0.0097988 ,\n",
       "       0.02704516])"
      ]
     },
     "execution_count": 48,
     "metadata": {},
     "output_type": "execute_result"
    }
   ],
   "source": [
    "similer[0]"
   ]
  },
  {
   "cell_type": "code",
   "execution_count": 49,
   "id": "19b8ebd6",
   "metadata": {},
   "outputs": [],
   "source": [
    "import pickle\n",
    "pickle.dump(similer,open('similarity.pkl','wb'))\n",
    "pickle.dump(df,open('df.pkl','wb'))"
   ]
  }
 ],
 "metadata": {
  "kernelspec": {
   "display_name": "Python 3 (ipykernel)",
   "language": "python",
   "name": "python3"
  },
  "language_info": {
   "codemirror_mode": {
    "name": "ipython",
    "version": 3
   },
   "file_extension": ".py",
   "mimetype": "text/x-python",
   "name": "python",
   "nbconvert_exporter": "python",
   "pygments_lexer": "ipython3",
   "version": "3.10.7"
  }
 },
 "nbformat": 4,
 "nbformat_minor": 5
}
